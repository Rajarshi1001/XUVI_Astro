{
 "cells": [
  {
   "cell_type": "markdown",
   "id": "4fdb3be9",
   "metadata": {},
   "source": [
    "## Assignment- Python basics"
   ]
  },
  {
   "cell_type": "markdown",
   "id": "8078b43d",
   "metadata": {},
   "source": [
    "Time for you to test your knowledge. Take a sigh of relief! These assignemnts won't be like that of your mookIT courses and would be more of fun :)"
   ]
  },
  {
   "cell_type": "markdown",
   "id": "2b6a8692",
   "metadata": {},
   "source": [
    "- Create a variable called z, express it as a sum of two different variables, say x and y, and display the result."
   ]
  },
  {
   "cell_type": "code",
   "execution_count": 3,
   "id": "64b54b22",
   "metadata": {},
   "outputs": [
    {
     "name": "stdout",
     "output_type": "stream",
     "text": [
      "69\n"
     ]
    }
   ],
   "source": [
    "x = 14\n",
    "y = 55\n",
    "z = x + y\n",
    "print(z)"
   ]
  },
  {
   "cell_type": "markdown",
   "id": "e7e042e1",
   "metadata": {},
   "source": [
    "- Remove the illegal characters in the variable name:<br />\n",
    "`2my@-first_name = \"XYZ\"`"
   ]
  },
  {
   "cell_type": "code",
   "execution_count": 23,
   "id": "0d7d517d",
   "metadata": {},
   "outputs": [
    {
     "name": "stdout",
     "output_type": "stream",
     "text": [
      "XYZ\n"
     ]
    }
   ],
   "source": [
    "myfirst_name = \"XYZ\"\n",
    "print(myfirst_name)"
   ]
  },
  {
   "cell_type": "markdown",
   "id": "ffffd916",
   "metadata": {},
   "source": [
    "- Write the correct code for converting any float number, take 6.5 as an example, to an integer."
   ]
  },
  {
   "cell_type": "code",
   "execution_count": 6,
   "id": "1675ed40",
   "metadata": {},
   "outputs": [
    {
     "name": "stdout",
     "output_type": "stream",
     "text": [
      "6\n"
     ]
    }
   ],
   "source": [
    "a = 6.5\n",
    "b = int(a)\n",
    "print(b)"
   ]
  },
  {
   "cell_type": "markdown",
   "id": "7fb66d61",
   "metadata": {},
   "source": [
    "- `Text= \"Albert Einstein\".`<br />\n",
    "Get the characters from index 2 to index 5."
   ]
  },
  {
   "cell_type": "code",
   "execution_count": 9,
   "id": "fe7eb881",
   "metadata": {},
   "outputs": [
    {
     "name": "stdout",
     "output_type": "stream",
     "text": [
      "lbert\n"
     ]
    }
   ],
   "source": [
    "A = \"Albert Einstein\"\n",
    "print(A[1:6])"
   ]
  },
  {
   "cell_type": "markdown",
   "id": "c0aad707",
   "metadata": {},
   "source": [
    "- Change the value from `\"apple\"` to `\"kiwi\"`, in the fruits list.<br />\n",
    "`fruits=[\"apple\",\"mango\",\"kiwi\",\"banana\"]`"
   ]
  },
  {
   "cell_type": "code",
   "execution_count": 11,
   "id": "a92d28bd",
   "metadata": {},
   "outputs": [
    {
     "name": "stdout",
     "output_type": "stream",
     "text": [
      "['kiwi', 'mango', 'kiwi', 'banana']\n"
     ]
    }
   ],
   "source": [
    "fruits=[\"apple\",\"mango\",\"kiwi\",\"banana\"]\n",
    "fruits[0] = \"kiwi\"\n",
    "print(fruits)"
   ]
  },
  {
   "cell_type": "markdown",
   "id": "de1c39b0",
   "metadata": {},
   "source": [
    "- Use negative indexing to print the last item in the list.\n",
    "`fruits = [\"apple\", \"banana\", \"cherry\"]`"
   ]
  },
  {
   "cell_type": "code",
   "execution_count": 25,
   "id": "18d9b430",
   "metadata": {},
   "outputs": [
    {
     "name": "stdout",
     "output_type": "stream",
     "text": [
      "['banana']\n"
     ]
    }
   ],
   "source": [
    "fruits = [\"apple\", \"banana\", \"cherry\"]\n",
    "print(fruits[-2:-1])"
   ]
  },
  {
   "cell_type": "markdown",
   "id": "5ad0a6f4",
   "metadata": {},
   "source": [
    "- Remove any one of elements from given set.<br />\n",
    "`fruits = {\"apple\", \"banana\", \"cherry\"}`"
   ]
  },
  {
   "cell_type": "code",
   "execution_count": 16,
   "id": "99df2db2",
   "metadata": {},
   "outputs": [
    {
     "name": "stdout",
     "output_type": "stream",
     "text": [
      "['banana', 'cherry']\n"
     ]
    }
   ],
   "source": [
    "fruits = [\"apple\", \"banana\", \"cherry\"]\n",
    "del fruits[0]\n",
    "print(fruits)"
   ]
  },
  {
   "cell_type": "markdown",
   "id": "ba7b6d1c",
   "metadata": {},
   "source": [
    "- Change the mode from online to offline in dictionary given below."
   ]
  },
  {
   "cell_type": "code",
   "execution_count": 3,
   "id": "0082ec7d",
   "metadata": {},
   "outputs": [
    {
     "data": {
      "text/plain": [
       "{'name': 'XUVI', 'no. of mentors': 3, 'mode': 'offline'}"
      ]
     },
     "execution_count": 3,
     "metadata": {},
     "output_type": "execute_result"
    }
   ],
   "source": [
    "project ={\n",
    "  \"name\": \"XUVI\",\n",
    "  \"no. of mentors\": 3,\n",
    "  \"mode\": \"online\"\n",
    "}\n",
    "\n",
    "del project['mode']\n",
    "project['mode'] = 'offline'\n",
    "project"
   ]
  },
  {
   "cell_type": "markdown",
   "id": "8198fdbb",
   "metadata": {},
   "source": [
    "- Print \"Equal\" if a variable `A`(assign any value) is equal to another variable `B`(assign any value), \"smaller\" if A<B, otherwise print \"None\"."
   ]
  },
  {
   "cell_type": "code",
   "execution_count": 6,
   "id": "e9e17f4c",
   "metadata": {},
   "outputs": [
    {
     "name": "stdout",
     "output_type": "stream",
     "text": [
      "None\n"
     ]
    }
   ],
   "source": [
    "A = 70\n",
    "B = 69\n",
    "if(A==B):\n",
    "    print (\"=\")\n",
    "elif(A<B):\n",
    "    print (\"smaller\")\n",
    "else:\n",
    "    print (\"None\")"
   ]
  },
  {
   "cell_type": "markdown",
   "id": "59ea0e14",
   "metadata": {},
   "source": [
    "- Print all positive integers less than 7 except 3.(using loop method)"
   ]
  },
  {
   "cell_type": "code",
   "execution_count": 10,
   "id": "c13d412c",
   "metadata": {},
   "outputs": [
    {
     "name": "stdout",
     "output_type": "stream",
     "text": [
      "0\n",
      "1\n",
      "2\n",
      "4\n",
      "5\n",
      "6\n",
      "7\n"
     ]
    }
   ],
   "source": [
    "for i in range (8):\n",
    "    if(i!=3):\n",
    "        print(i)"
   ]
  },
  {
   "cell_type": "markdown",
   "id": "0ad1638f",
   "metadata": {},
   "source": [
    "- Calculate sum and average of n natural numbers using for loop."
   ]
  },
  {
   "cell_type": "code",
   "execution_count": 21,
   "id": "4303884c",
   "metadata": {},
   "outputs": [
    {
     "name": "stdout",
     "output_type": "stream",
     "text": [
      "Sum =  36 \n",
      " Average =  4.5\n"
     ]
    }
   ],
   "source": [
    "n = 8\n",
    "Sum = 0\n",
    "\n",
    "for i in range(1, n+1):\n",
    "    Sum = Sum + i\n",
    "Avg = Sum/n\n",
    "print(\"Sum = \", Sum, \"\\n Average = \", Avg)\n"
   ]
  },
  {
   "cell_type": "markdown",
   "id": "5aac8445",
   "metadata": {},
   "source": [
    "- Write a python code to print multiplication table of 3. (using for loop)"
   ]
  },
  {
   "cell_type": "code",
   "execution_count": 15,
   "id": "c31bd39d",
   "metadata": {},
   "outputs": [
    {
     "name": "stdout",
     "output_type": "stream",
     "text": [
      "3 time 1  =  3\n",
      "3 time 2  =  6\n",
      "3 time 3  =  9\n",
      "3 time 4  =  12\n",
      "3 time 5  =  15\n",
      "3 time 6  =  18\n",
      "3 time 7  =  21\n",
      "3 time 8  =  24\n",
      "3 time 9  =  27\n",
      "3 time 10  =  30\n"
     ]
    }
   ],
   "source": [
    "for i in range (1, 11):\n",
    "    print(\"3 time\", i, \" = \", 3*i)"
   ]
  },
  {
   "cell_type": "markdown",
   "id": "1fad462f",
   "metadata": {},
   "source": [
    "- Define a function x and let the function return the x parameter + 5."
   ]
  },
  {
   "cell_type": "code",
   "execution_count": 18,
   "id": "7fe1bf1f",
   "metadata": {},
   "outputs": [
    {
     "data": {
      "text/plain": [
       "10"
      ]
     },
     "execution_count": 18,
     "metadata": {},
     "output_type": "execute_result"
    }
   ],
   "source": [
    "def x(x):\n",
    "    return (x+5)\n",
    "\n",
    "x(5)"
   ]
  },
  {
   "cell_type": "markdown",
   "id": "07292309",
   "metadata": {},
   "source": [
    "Yess!! You completed your first step towards mastering python basics. Keep Going."
   ]
  }
 ],
 "metadata": {
  "interpreter": {
   "hash": "26de051ba29f2982a8de78e945f0abaf191376122a1563185a90213a26c5da77"
  },
  "kernelspec": {
   "display_name": "Python 3.10.4 64-bit",
   "language": "python",
   "name": "python3"
  },
  "language_info": {
   "codemirror_mode": {
    "name": "ipython",
    "version": 3
   },
   "file_extension": ".py",
   "mimetype": "text/x-python",
   "name": "python",
   "nbconvert_exporter": "python",
   "pygments_lexer": "ipython3",
   "version": "3.10.4"
  }
 },
 "nbformat": 4,
 "nbformat_minor": 5
}
