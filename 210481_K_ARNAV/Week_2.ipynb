{
 "cells": [
  {
   "cell_type": "markdown",
   "metadata": {},
   "source": [
    "### Assignment 2 - Numpy and Pandas Basics\n",
    "\n",
    "As you have already gone through the first assignment which was based on **Python** basics, you should have realised that these assignments are a lot easier than your normal **Mookit** assignments. Take your time and write down your solutions to each of the questions mentioned below. 😃"
   ]
  },
  {
   "cell_type": "code",
   "execution_count": 11,
   "metadata": {},
   "outputs": [],
   "source": [
    "## importing the Necessary libraries\n",
    "import numpy as np\n",
    "import pandas as pd"
   ]
  },
  {
   "cell_type": "markdown",
   "metadata": {},
   "source": [
    "- Firstly, create a numpy array consisting of all 1's having a size of 7:8"
   ]
  },
  {
   "cell_type": "code",
   "execution_count": 3,
   "metadata": {},
   "outputs": [
    {
     "name": "stdout",
     "output_type": "stream",
     "text": [
      "[[1. 1. 1. 1. 1. 1. 1. 1.]\n",
      " [1. 1. 1. 1. 1. 1. 1. 1.]\n",
      " [1. 1. 1. 1. 1. 1. 1. 1.]\n",
      " [1. 1. 1. 1. 1. 1. 1. 1.]\n",
      " [1. 1. 1. 1. 1. 1. 1. 1.]\n",
      " [1. 1. 1. 1. 1. 1. 1. 1.]\n",
      " [1. 1. 1. 1. 1. 1. 1. 1.]]\n"
     ]
    }
   ],
   "source": [
    "## Write your code here\n",
    "a = np.ones((7,8))\n",
    "print(a)"
   ]
  },
  {
   "cell_type": "markdown",
   "metadata": {},
   "source": [
    "- Create a random numpy array consisting of 10 elements ranging from 1 to 100."
   ]
  },
  {
   "cell_type": "code",
   "execution_count": 25,
   "metadata": {},
   "outputs": [
    {
     "name": "stdout",
     "output_type": "stream",
     "text": [
      "[53 53 24 39 67 49 91 79 20 77]\n"
     ]
    }
   ],
   "source": [
    "# Write your code here\n",
    "x = np.random.randint(100, size=(10))\n",
    "print(x)"
   ]
  },
  {
   "cell_type": "markdown",
   "metadata": {},
   "source": [
    "- This was quite easy right :p, now you are given with two numpy arrays, namely [1,2] and [3,4], write the code to create all possible combinations of these two numpy arrays."
   ]
  },
  {
   "cell_type": "code",
   "execution_count": 30,
   "metadata": {},
   "outputs": [
    {
     "name": "stdout",
     "output_type": "stream",
     "text": [
      "[[1 3]\n",
      " [1 4]\n",
      " [2 3]\n",
      " [2 4]]\n"
     ]
    }
   ],
   "source": [
    "## Write your code here\n",
    "x = [1,2]\n",
    "y = [3,4]\n",
    "z = np.array(np.meshgrid(x, y)).T.reshape(-1,3)\n",
    "print(z)"
   ]
  },
  {
   "cell_type": "markdown",
   "metadata": {},
   "source": [
    "- Create a square matrix of your choice and calculate the maximum, minimum element and their corresponding indexes using numpy."
   ]
  },
  {
   "cell_type": "code",
   "execution_count": 34,
   "metadata": {},
   "outputs": [
    {
     "name": "stdout",
     "output_type": "stream",
     "text": [
      "(array([0], dtype=int64), array([0], dtype=int64))\n",
      "(array([1], dtype=int64), array([1], dtype=int64))\n",
      "1 8\n"
     ]
    }
   ],
   "source": [
    "## Write your code here\n",
    "s = np.array([[1,4],[5,8]])\n",
    "x=s.min()\n",
    "print(np.where(s==x))\n",
    "y=s.max()\n",
    "print(np.where(s==y))\n",
    "print(x,y)\n"
   ]
  },
  {
   "cell_type": "markdown",
   "metadata": {},
   "source": [
    "- from the above matrix that you have created, calculate the determinant and the eigenvalues using numpy."
   ]
  },
  {
   "cell_type": "code",
   "execution_count": 43,
   "metadata": {},
   "outputs": [
    {
     "name": "stdout",
     "output_type": "stream",
     "text": [
      "-12\n",
      "(array([-1.17890835, 10.17890835]), array([[-0.87816399, -0.39949624],\n",
      "       [ 0.47835971, -0.91673483]]))\n"
     ]
    }
   ],
   "source": [
    "## Write your code here\n",
    "a = np.array([[1,4],[5,8]])\n",
    "det = np.linalg.det(a)\n",
    "print(round(det))\n",
    "\n",
    "l = np.linalg.eig(a)\n",
    "print(l)\n"
   ]
  },
  {
   "cell_type": "markdown",
   "metadata": {},
   "source": [
    "- Given a polynomial $x^{3} + 4x^{2} + 5x + 6 = 0$, calculate the roots of the equation using numpy."
   ]
  },
  {
   "cell_type": "code",
   "execution_count": 42,
   "metadata": {},
   "outputs": [
    {
     "name": "stdout",
     "output_type": "stream",
     "text": [
      "[-3. +0.j         -0.5+1.32287566j -0.5-1.32287566j]\n"
     ]
    }
   ],
   "source": [
    "## Write your code here\n",
    "zigzig = ([1, 4, 5, 6])\n",
    "chigchig = np.roots(zigzig)\n",
    "print(chigchig)\n"
   ]
  },
  {
   "cell_type": "markdown",
   "metadata": {},
   "source": [
    "- Create two 2-D numpy arrays, the first array should contain all the elements ranging from 0 to 10, having 2 rows and the second 2-D arrays should containing 10 numbers between 1 and 20, having a size of 2x5. \n",
    "- After creating the two 2-D numpy arrays, stack them vertically to create a 4x5 matrix.\n",
    "- Convert the 4x5 matrix to a 1x1 numpy array\n",
    "- Finally count the frequency of each of the elements occuring in the array."
   ]
  },
  {
   "cell_type": "code",
   "execution_count": 9,
   "metadata": {},
   "outputs": [
    {
     "name": "stdout",
     "output_type": "stream",
     "text": [
      "a2= [[ 7 15 10 19 19]\n",
      " [ 6  2  7 12  3]]\n",
      "stacked array= [[ 0  1  2  3  4]\n",
      " [ 5  6  7  8  9]\n",
      " [ 7 15 10 19 19]\n",
      " [ 6  2  7 12  3]]\n",
      "[ 0  1  2  3  4  5  6  7  8  9  7 15 10 19 19  6  2  7 12  3]\n",
      "(array([ 0,  1,  2,  3,  4,  5,  6,  7,  8,  9, 10, 12, 15, 19]), array([1, 1, 2, 2, 1, 1, 2, 3, 1, 1, 1, 1, 1, 2], dtype=int64))\n"
     ]
    }
   ],
   "source": [
    "## Write your code here\n",
    "import numpy as np\n",
    "a1=np.arange(10).reshape(2,5)\n",
    "a2=np.random.randint(1,20,10).reshape(2,5)\n",
    "print(\"a2=\",a2)\n",
    "a3=np.vstack((a1,a2))\n",
    "print(\"stacked array=\",a3)\n",
    "a4=a3.ravel()\n",
    "print(a4)\n",
    "res=np.unique(a4,return_counts=\"True\")\n",
    "print(res)\n"
   ]
  },
  {
   "cell_type": "markdown",
   "metadata": {},
   "source": [
    "- Convert the following dictionary to a Pandas Dataframe"
   ]
  },
  {
   "cell_type": "code",
   "execution_count": 68,
   "metadata": {},
   "outputs": [],
   "source": [
    "data ={'area': ['new-hills', 'cape-town', 'mumbai','new Delhi', 'Kanpur'],\n",
    "       'rainfall':[100, 70, 200, 30, 25],\n",
    "       'temperature':[20, 25, 39, 45, 47]}\n",
    "## Write your code here"
   ]
  },
  {
   "cell_type": "markdown",
   "metadata": {},
   "source": [
    "- Using the dataframe created above:\n",
    "   - Display all the info related to the dataframe.\n",
    "   - replace the entry **\"new-hills\"** with **\"old-hills\"** and replace the raingfall amount **100** with **99**.\n",
    "   - sort the entries, rainfall amount should be **ascending order** and the temperature should be **descending order**."
   ]
  },
  {
   "cell_type": "code",
   "execution_count": 57,
   "metadata": {},
   "outputs": [
    {
     "name": "stdout",
     "output_type": "stream",
     "text": [
      "<class 'pandas.core.frame.DataFrame'>\n",
      "RangeIndex: 5 entries, 0 to 4\n",
      "Data columns (total 3 columns):\n",
      " #   Column       Non-Null Count  Dtype \n",
      "---  ------       --------------  ----- \n",
      " 0   area         5 non-null      object\n",
      " 1   rainfall     5 non-null      int64 \n",
      " 2   temperature  5 non-null      int64 \n",
      "dtypes: int64(2), object(1)\n",
      "memory usage: 248.0+ bytes\n",
      "None\n",
      "        area  rainfall  temperature\n",
      "0  old-hills       100           20\n",
      "1  cape-town        70           25\n",
      "2     mumbai       200           39\n",
      "3  new Delhi        30           45\n",
      "4     Kanpur        25           47\n",
      "        area  rainfall  temperature\n",
      "0  new-hills        90           20\n",
      "1  cape-town        70           25\n",
      "2     mumbai       200           39\n",
      "3  new Delhi        30           45\n",
      "4     Kanpur        25           47\n",
      "        area  rainfall  temperature\n",
      "4     Kanpur        25           47\n",
      "3  new Delhi        30           45\n",
      "1  cape-town        70           25\n",
      "0  new-hills       100           20\n",
      "2     mumbai       200           39\n",
      "        area  rainfall  temperature\n",
      "4     Kanpur        25           47\n",
      "3  new Delhi        30           45\n",
      "2     mumbai       200           39\n",
      "1  cape-town        70           25\n",
      "0  new-hills       100           20\n"
     ]
    }
   ],
   "source": [
    "## write your code here\n",
    "data ={'area': ['new-hills', 'cape-town', 'mumbai','new Delhi', 'Kanpur'],\n",
    "       'rainfall':[100, 70, 200, 30, 25],\n",
    "       'temperature':[20, 25, 39, 45, 47]}\n",
    "a=pd.DataFrame(data)\n",
    "print(a.info())\n",
    "\n",
    "newa = a.replace('new-hills', 'old-hills')\n",
    "print(newa)\n",
    "\n",
    "boom = a.replace(100, 90)\n",
    "print(boom)\n",
    "\n",
    "a.sort_values(by=['rainfall'], inplace=True)\n",
    "print(a)\n",
    "\n",
    "a.sort_values(by=['temperature'], inplace=True, ascending=False)\n",
    "print(a)\n",
    "\n",
    "\n"
   ]
  },
  {
   "cell_type": "markdown",
   "metadata": {},
   "source": [
    "- Using the **csv file** present, use pandas to read the **csv** file in a dataframe.\n",
    "- Firstly, use **pandas info()** method to display the datatypes of the entries present in each column in the dataframe.\n",
    "- Find the number of **null entries (NaN)** values in each column and show it as an output.\n",
    "- Replace the `~1000` in the **Depth (in meters)** and `~3300` in **Depth (in feet)** columns with `1000` and `3300` and display the modified dataframe.\n",
    "- Also calculate the rows corresponding to the maximum values"
   ]
  },
  {
   "cell_type": "code",
   "execution_count": 13,
   "metadata": {},
   "outputs": [
    {
     "name": "stdout",
     "output_type": "stream",
     "text": [
      "<class 'pandas.core.frame.DataFrame'>\n",
      "RangeIndex: 36 entries, 0 to 35\n",
      "Data columns (total 6 columns):\n",
      " #   Column             Non-Null Count  Dtype \n",
      "---  ------             --------------  ----- \n",
      " 0   Name               36 non-null     object\n",
      " 1   Country            36 non-null     object\n",
      " 2   Reigon             28 non-null     object\n",
      " 3   Depth (in meters)  36 non-null     object\n",
      " 4   Depth (in feet)    36 non-null     object\n",
      " 5   Depth^2/area       36 non-null     object\n",
      "dtypes: object(6)\n",
      "memory usage: 1.8+ KB\n",
      "None\n",
      "Name                 0\n",
      "Country              0\n",
      "Reigon               8\n",
      "Depth (in meters)    0\n",
      "Depth (in feet)      0\n",
      "Depth^2/area         0\n",
      "dtype: int64\n",
      "                            Name  \\\n",
      "0                         Baikal   \n",
      "1                     Tanganyika   \n",
      "2                    Caspian sea   \n",
      "3                         Vostok   \n",
      "4           O'Higgins-San Martín   \n",
      "5            Malawi/Nyasa/Niassa   \n",
      "6                      Issyk Kul   \n",
      "7                    Great Slave   \n",
      "8                         Crater   \n",
      "9                         Matano   \n",
      "10  General Carrera-Buenos Aires   \n",
      "11              Hornindalsvatnet   \n",
      "12                       Quesnel   \n",
      "13                          Toba   \n",
      "14                         Sarez   \n",
      "15                         Tahoe   \n",
      "16                     Argentino   \n",
      "17                          Kivu   \n",
      "18                    Salsvatnet   \n",
      "19                  Nahuel Huapi   \n",
      "20                       Hauroko   \n",
      "21      Cochrane / Pueyrredón[6]   \n",
      "22                     Lake Tinn   \n",
      "23                         Adams   \n",
      "24                        Chelan   \n",
      "25                        Van[7]   \n",
      "26                          Poso   \n",
      "27                       Fagnano   \n",
      "28                    Great Bear   \n",
      "29                     Manapouri   \n",
      "30                         Mjøsa   \n",
      "31                          Como   \n",
      "32                       Te Anau   \n",
      "33                        Tazawa   \n",
      "34                      Wakatipu   \n",
      "35                      Superior   \n",
      "\n",
      "                                              Country  \\\n",
      "0                                              Russia   \n",
      "1    Tanzania, Democratic Republic of the Congo, B...   \n",
      "2    Iran, Russia, Turkmenistan, Kazakhstan, Azerb...   \n",
      "3                                          Antarctica   \n",
      "4                                    Chile, Argentina   \n",
      "5                        Mozambique, Malawi, Tanzania   \n",
      "6                                          Kyrgyzstan   \n",
      "7                                              Canada   \n",
      "8                                       United States   \n",
      "9                                           Indonesia   \n",
      "10                                  Chile,  Argentina   \n",
      "11                                             Norway   \n",
      "12                                             Canada   \n",
      "13                                          Indonesia   \n",
      "14                                         Tajikistan   \n",
      "15                                      United States   \n",
      "16                                          Argentina   \n",
      "17          Democratic Republic of the Congo,  Rwanda   \n",
      "18                                             Norway   \n",
      "19                                          Argentina   \n",
      "20                                        New Zealand   \n",
      "21                                  Chile,  Argentina   \n",
      "22                                             Norway   \n",
      "23                                             Canada   \n",
      "24                                      United States   \n",
      "25                                             Turkey   \n",
      "26                                          Indonesia   \n",
      "27                                  Argentina,  Chile   \n",
      "28                                             Canada   \n",
      "29                                        New Zealand   \n",
      "30                                             Norway   \n",
      "31                                              Italy   \n",
      "32                                        New Zealand   \n",
      "33                                              Japan   \n",
      "34                                        New Zealand   \n",
      "35                                             Canada   \n",
      "\n",
      "                                     Reigon Depth (in meters) Depth (in feet)  \\\n",
      "0                                   Siberia              1642            5387   \n",
      "1                               East Africa              1470            4823   \n",
      "2                                       NaN              1025            3363   \n",
      "3                                       NaN             ~1000           ~3300   \n",
      "4     Aysén (Chile), Santa Cruz (Argentina)               836            2742   \n",
      "5                                       NaN               706            2316   \n",
      "6                                       NaN               668            2192   \n",
      "7                     Northwest Territories               614            2015   \n",
      "8                                    Oregon               594            1949   \n",
      "9                            South Sulawesi               590            1936   \n",
      "10                                      NaN               586            1923   \n",
      "11                                 Vestland               514            1686   \n",
      "12                         British Columbia               511            1677   \n",
      "13                                  Sumatra               505            1657   \n",
      "14                                      NaN               505            1657   \n",
      "15                       California, Nevada               501            1645   \n",
      "16                   Santa Cruz (Patagonia)               500            1640   \n",
      "17                                      NaN               480            1575   \n",
      "18                                Trøndelag               464            1523   \n",
      "19                     Rio Negro, Patagonia               464            1523   \n",
      "20                 Southland (South Island)               462            1516   \n",
      "21    Aysén (Chile), Santa Cruz (Argentina)               460            1509   \n",
      "22                     Vestfold og Telemark               460            1509   \n",
      "23                         British Columbia               457            1499   \n",
      "24                       Washington (state)               453            1486   \n",
      "25                                      NaN               451            1480   \n",
      "26                                 Sulawesi               450            1476   \n",
      "27                         Tierra del Fuego               449            1473   \n",
      "28                    Northwest Territories               446            1463   \n",
      "29                 Southland (South Island)               444            1457   \n",
      "30               Hedmark, Oppland and Viken             443.5            1455   \n",
      "31                                 Lombardy               425            1394   \n",
      "32                 Southland (South Island)               425            1390   \n",
      "33                         Akita Prefecture               423            1387   \n",
      "34                             South Island               420            1378   \n",
      "35  Ontario, Michigan, Minnesota, Wisconsin               406            1332   \n",
      "\n",
      "   Depth^2/area  \n",
      "0     9.22×10−6  \n",
      "1      8.1×10−6  \n",
      "2     1.68×10−6  \n",
      "3     8.94×10−6  \n",
      "4     2.63×10−5  \n",
      "5      4.1×10−6  \n",
      "6     8.46×10−6  \n",
      "7     3.72×10−6  \n",
      "8     8.16×10−5  \n",
      "9     4.61×10−5  \n",
      "10    1.36×10−5  \n",
      "11     7.2×10−5  \n",
      "12    3.13×10−5  \n",
      "13     1.5×10−5  \n",
      "14    5.66×10−5  \n",
      "15    2.26×10−5  \n",
      "16    1.33×10−5  \n",
      "17    9.24×10−6  \n",
      "18    6.93×10−5  \n",
      "19    2.02×10−5  \n",
      "20    5.82×10−5  \n",
      "21    2.55×10−5  \n",
      "22    6.41×10−5  \n",
      "23     3.9×10−5  \n",
      "24     3.9×10−5  \n",
      "25    7.36×10−6  \n",
      "26     2.5×10−5  \n",
      "27    1.77×10−5  \n",
      "28    2.53×10−6  \n",
      "29    3.73×10−5  \n",
      "30    2.33×10−5  \n",
      "31    3.52×10−5  \n",
      "32    2.29×10−5  \n",
      "33    8.31×10−5  \n",
      "34    2.47×10−5  \n",
      "35    1.42×10−6  \n"
     ]
    }
   ],
   "source": [
    "# Write your code here\n",
    "a=pd.read_csv(\"lakes.csv\")\n",
    "print(a.info())\n",
    "print(pd.isna(a).sum())\n",
    "a[\"Depth (in meters)\"].replace(~1000,1000,inplace=True)\n",
    "a[\"Depth (in feet)\"].replace(~3300,3300,inplace=True)\n",
    "print(a)"
   ]
  }
 ],
 "metadata": {
  "interpreter": {
   "hash": "65a440aeac0c89e2af7569e0aa53b64434c4b69eb6285e2b0d174d9bca190d54"
  },
  "kernelspec": {
   "display_name": "Python 3.10.4 64-bit (windows store)",
   "language": "python",
   "name": "python3"
  },
  "language_info": {
   "codemirror_mode": {
    "name": "ipython",
    "version": 3
   },
   "file_extension": ".py",
   "mimetype": "text/x-python",
   "name": "python",
   "nbconvert_exporter": "python",
   "pygments_lexer": "ipython3",
   "version": "3.10.5"
  },
  "orig_nbformat": 4
 },
 "nbformat": 4,
 "nbformat_minor": 2
}
