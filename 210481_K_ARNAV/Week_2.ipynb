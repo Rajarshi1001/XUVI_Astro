{
 "cells": [
  {
   "cell_type": "markdown",
   "metadata": {},
   "source": [
    "### Assignment 2 - Numpy and Pandas Basics\n",
    "\n",
    "As you have already gone through the first assignment which was based on **Python** basics, you should have realised that these assignments are a lot easier than your normal **Mookit** assignments. Take your time and write down your solutions to each of the questions mentioned below. 😃"
   ]
  },
  {
   "cell_type": "code",
   "execution_count": 60,
   "metadata": {},
   "outputs": [],
   "source": [
    "## importing the Necessary libraries\n",
    "import numpy as np\n",
    "import pandas as pd"
   ]
  },
  {
   "cell_type": "markdown",
   "metadata": {},
   "source": [
    "- Firstly, create a numpy array consisting of all 1's having a size of 7:8"
   ]
  },
  {
   "cell_type": "code",
   "execution_count": 61,
   "metadata": {},
   "outputs": [],
   "source": [
    "## Write your code here"
   ]
  },
  {
   "cell_type": "markdown",
   "metadata": {},
   "source": [
    "- Create a random numpy array consisting of 10 elements ranging from 1 to 100."
   ]
  },
  {
   "cell_type": "code",
   "execution_count": 62,
   "metadata": {},
   "outputs": [],
   "source": [
    "# Write your code here"
   ]
  },
  {
   "cell_type": "markdown",
   "metadata": {},
   "source": [
    "- This was quite easy right :p, now you are given with two numpy arrays, namely [1,2] and [3,4], write the code to create all possible combinations of these two numpy arrays."
   ]
  },
  {
   "cell_type": "code",
   "execution_count": 63,
   "metadata": {},
   "outputs": [],
   "source": [
    "## Write your code here"
   ]
  },
  {
   "cell_type": "markdown",
   "metadata": {},
   "source": [
    "- Create a square matrix of your choice and calculate the maximum, minimum element and their corresponding indexes using numpy."
   ]
  },
  {
   "cell_type": "code",
   "execution_count": 64,
   "metadata": {},
   "outputs": [],
   "source": [
    "## Write your code here"
   ]
  },
  {
   "cell_type": "markdown",
   "metadata": {},
   "source": [
    "- from the above matrix that you have created, calculate the determinant and the eigenvalues using numpy."
   ]
  },
  {
   "cell_type": "code",
   "execution_count": 65,
   "metadata": {},
   "outputs": [],
   "source": [
    "## Write your code here"
   ]
  },
  {
   "cell_type": "markdown",
   "metadata": {},
   "source": [
    "- Given a polynomial $x^{3} + 4x^{2} + 5x + 6 = 0$, calculate the roots of the equation using numpy."
   ]
  },
  {
   "cell_type": "code",
   "execution_count": 66,
   "metadata": {},
   "outputs": [],
   "source": [
    "## Write your code here"
   ]
  },
  {
   "cell_type": "markdown",
   "metadata": {},
   "source": [
    "- Create two 2-D numpy arrays, the first array should contain all the elements ranging from 0 to 10, having 2 rows and the second 2-D arrays should containing 10 numbers between 1 and 20, having a size of 2x5. \n",
    "- After creating the two 2-D numpy arrays, stack them vertically to create a 4x5 matrix.\n",
    "- Convert the 4x5 matrix to a 1x1 numpy array\n",
    "- Finally count the frequency of each of the elements occuring in the array."
   ]
  },
  {
   "cell_type": "code",
   "execution_count": 67,
   "metadata": {},
   "outputs": [],
   "source": [
    "## Write your code here"
   ]
  },
  {
   "cell_type": "markdown",
   "metadata": {},
   "source": [
    "- Convert the following dictionary to a Pandas Dataframe"
   ]
  },
  {
   "cell_type": "code",
   "execution_count": 68,
   "metadata": {},
   "outputs": [],
   "source": [
    "data ={'area': ['new-hills', 'cape-town', 'mumbai','new Delhi', 'Kanpur'],\n",
    "       'rainfall':[100, 70, 200, 30, 25],\n",
    "       'temperature':[20, 25, 39, 45, 47]}\n",
    "## Write your code here"
   ]
  },
  {
   "cell_type": "markdown",
   "metadata": {},
   "source": [
    "- Using the dataframe created above:\n",
    "   - Display all the info related to the dataframe.\n",
    "   - replace the entry **\"new-hills\"** with **\"old-hills\"** and replace the raingfall amount **100** with **99**.\n",
    "   - sort the entries, rainfall amount should be **ascending order** and the temperature should be **descending order**."
   ]
  },
  {
   "cell_type": "code",
   "execution_count": 69,
   "metadata": {},
   "outputs": [],
   "source": [
    "## write your code here"
   ]
  },
  {
   "cell_type": "markdown",
   "metadata": {},
   "source": [
    "- Using the **csv file** present, use pandas to read the **csv** file in a dataframe.\n",
    "- Firstly, use **pandas info()** method to display the datatypes of the entries present in each column in the dataframe.\n",
    "- Find the number of **null entries (NaN)** values in each column and show it as an output.\n",
    "- Replace the `~1000` in the **Depth (in meters)** and `~3300` in **Depth (in feet)** columns with `1000` and `3300` and display the modified dataframe.\n",
    "- Also calculate the rows corresponding to the maximum values"
   ]
  },
  {
   "cell_type": "code",
   "execution_count": 70,
   "metadata": {},
   "outputs": [],
   "source": [
    "# Write your code here"
   ]
  }
 ],
 "metadata": {
  "interpreter": {
   "hash": "81794d4967e6c3204c66dcd87b604927b115b27c00565d3d43f05ba2f3a2cb0d"
  },
  "kernelspec": {
   "display_name": "Python 3.9.5 64-bit",
   "language": "python",
   "name": "python3"
  },
  "language_info": {
   "codemirror_mode": {
    "name": "ipython",
    "version": 3
   },
   "file_extension": ".py",
   "mimetype": "text/x-python",
   "name": "python",
   "nbconvert_exporter": "python",
   "pygments_lexer": "ipython3",
   "version": "3.9.5"
  },
  "orig_nbformat": 4
 },
 "nbformat": 4,
 "nbformat_minor": 2
}
