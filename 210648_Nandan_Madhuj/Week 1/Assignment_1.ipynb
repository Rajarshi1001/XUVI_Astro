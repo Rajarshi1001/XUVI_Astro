{
 "cells": [
  {
   "cell_type": "markdown",
   "id": "4fdb3be9",
   "metadata": {},
   "source": [
    "## Assignment- Python basics"
   ]
  },
  {
   "cell_type": "markdown",
   "id": "8078b43d",
   "metadata": {},
   "source": [
    "Time for you to test your knowledge. Take a sigh of relief! These assignemnts won't be like that of your mookIT courses and would be more of fun :)"
   ]
  },
  {
   "cell_type": "markdown",
   "id": "2b6a8692",
   "metadata": {},
   "source": [
    "- Create a variable called z, express it as a sum of two different variables, say x and y, and display the result."
   ]
  },
  {
   "cell_type": "code",
   "execution_count": 4,
   "id": "64b54b22",
   "metadata": {},
   "outputs": [
    {
     "name": "stdout",
     "output_type": "stream",
     "text": [
      "15\n"
     ]
    }
   ],
   "source": [
    "x=5;y=10\n",
    "z = x+y\n",
    "print(z)"
   ]
  },
  {
   "cell_type": "markdown",
   "id": "e7e042e1",
   "metadata": {},
   "source": [
    "- Remove the illegal characters in the variable name:<br />\n",
    "`2my@-first_name = \"XYZ\"`"
   ]
  },
  {
   "cell_type": "code",
   "execution_count": 4,
   "id": "0d7d517d",
   "metadata": {},
   "outputs": [],
   "source": [
    "my_first_name = \"Nandan\""
   ]
  },
  {
   "cell_type": "markdown",
   "id": "ffffd916",
   "metadata": {},
   "source": [
    "- Write the correct code for converting any float number, take 6.5 as an example, to an integer."
   ]
  },
  {
   "cell_type": "code",
   "execution_count": 6,
   "id": "1675ed40",
   "metadata": {},
   "outputs": [
    {
     "name": "stdout",
     "output_type": "stream",
     "text": [
      "6\n"
     ]
    }
   ],
   "source": [
    "x = int(6.5)"
   ]
  },
  {
   "cell_type": "markdown",
   "id": "7fb66d61",
   "metadata": {},
   "source": [
    "- `Text= \"Albert Einstein\".`<br />\n",
    "Get the characters from index 2 to index 5."
   ]
  },
  {
   "cell_type": "code",
   "execution_count": 7,
   "id": "fe7eb881",
   "metadata": {},
   "outputs": [
    {
     "name": "stdout",
     "output_type": "stream",
     "text": [
      "bert\n"
     ]
    }
   ],
   "source": [
    "Text = \"Albert Einstein\"\n",
    "print(Text[2:6])"
   ]
  },
  {
   "cell_type": "markdown",
   "id": "c0aad707",
   "metadata": {},
   "source": [
    "- Change the value from `\"apple\"` to `\"kiwi\"`, in the fruits list.<br />\n",
    "`fruits=[\"apple\",\"mango\",\"kiwi\",\"banana\"]`"
   ]
  },
  {
   "cell_type": "code",
   "execution_count": 1,
   "id": "a92d28bd",
   "metadata": {},
   "outputs": [
    {
     "name": "stdout",
     "output_type": "stream",
     "text": [
      "['kiwi', 'mango', 'kiwi', 'banana']\n"
     ]
    }
   ],
   "source": [
    "fruits=[\"apple\",\"mango\",\"kiwi\",\"banana\"]\n",
    "fruits[0] = fruits[2]\n",
    "print(fruits)"
   ]
  },
  {
   "cell_type": "markdown",
   "id": "de1c39b0",
   "metadata": {},
   "source": [
    "- Use negative indexing to print the last item in the list.\n",
    "`fruits = [\"apple\", \"banana\", \"cherry\"]`"
   ]
  },
  {
   "cell_type": "code",
   "execution_count": 14,
   "id": "18d9b430",
   "metadata": {},
   "outputs": [
    {
     "name": "stdout",
     "output_type": "stream",
     "text": [
      "cherry\n"
     ]
    }
   ],
   "source": [
    "fruits = [\"apple\",\"banana\",\"cherry\"]\n",
    "print(fruits[-1])"
   ]
  },
  {
   "cell_type": "markdown",
   "id": "5ad0a6f4",
   "metadata": {},
   "source": [
    "- Remove any one of elements from given set.<br />\n",
    "`fruits = {\"apple\", \"banana\", \"cherry\"}`"
   ]
  },
  {
   "cell_type": "code",
   "execution_count": 2,
   "id": "99df2db2",
   "metadata": {},
   "outputs": [
    {
     "name": "stdout",
     "output_type": "stream",
     "text": [
      "{'apple', 'banana'}\n"
     ]
    }
   ],
   "source": [
    "fruits = {\"apple\",\"banana\",\"cherry\"}\n",
    "fruits.remove(\"cherry\")\n",
    "print(fruits)"
   ]
  },
  {
   "cell_type": "markdown",
   "id": "ba7b6d1c",
   "metadata": {},
   "source": [
    "- Change the mode from online to offline in dictionary given below."
   ]
  },
  {
   "cell_type": "code",
   "execution_count": 20,
   "id": "0082ec7d",
   "metadata": {},
   "outputs": [
    {
     "name": "stdout",
     "output_type": "stream",
     "text": [
      "{'name': 'XUVI', 'no. of mentors': 3, 'mode': 'offline'}\n"
     ]
    }
   ],
   "source": [
    "project ={\n",
    "  \"name\": \"XUVI\",\n",
    "  \"no. of mentors\": 3,\n",
    "  \"mode\": \"online\"\n",
    "}\n",
    "project [ \"mode\"] = \"offline\"\n",
    "print(project)"
   ]
  },
  {
   "cell_type": "markdown",
   "id": "8198fdbb",
   "metadata": {},
   "source": [
    "- Print \"Equal\" if a variable `A`(assign any value) is equal to another variable `B`(assign any value), \"smaller\" if A<B, otherwise print \"None\"."
   ]
  },
  {
   "cell_type": "code",
   "execution_count": 22,
   "id": "e9e17f4c",
   "metadata": {},
   "outputs": [
    {
     "name": "stdout",
     "output_type": "stream",
     "text": [
      "smaller\n"
     ]
    }
   ],
   "source": [
    "A = 10\n",
    "B = 32\n",
    "if(A == B):\n",
    "    print(\"Equal\")\n",
    "elif (A<B):\n",
    "    print(\"smaller\")\n",
    "else:\n",
    "    print(\"None\")"
   ]
  },
  {
   "cell_type": "markdown",
   "id": "59ea0e14",
   "metadata": {},
   "source": [
    "- Print all positive integers less than 7 except 3.(using loop method)"
   ]
  },
  {
   "cell_type": "code",
   "execution_count": 6,
   "id": "c13d412c",
   "metadata": {},
   "outputs": [
    {
     "name": "stdout",
     "output_type": "stream",
     "text": [
      "1\n",
      "2\n",
      "4\n",
      "5\n",
      "6\n"
     ]
    }
   ],
   "source": [
    "for i in range(1,7):\n",
    "    if(i==3):\n",
    "        continue\n",
    "    print(i)\n"
   ]
  },
  {
   "cell_type": "markdown",
   "id": "0ad1638f",
   "metadata": {},
   "source": [
    "- Calculate sum and average of n natural numbers using for loop."
   ]
  },
  {
   "cell_type": "code",
   "execution_count": 7,
   "id": "4303884c",
   "metadata": {},
   "outputs": [
    {
     "name": "stdout",
     "output_type": "stream",
     "text": [
      "55\n",
      "5.5\n"
     ]
    }
   ],
   "source": [
    "sum =0\n",
    "n =10\n",
    "for i in range(1,n+1):\n",
    "    sum = sum + i\n",
    "print(sum)\n",
    "if(n==0):\n",
    "    avg =0\n",
    "else:\n",
    "    avg = sum/n\n",
    "print(avg)"
   ]
  },
  {
   "cell_type": "markdown",
   "id": "5aac8445",
   "metadata": {},
   "source": [
    "- Write a python code to print multiplication table of 3. (using for loop)"
   ]
  },
  {
   "cell_type": "code",
   "execution_count": 33,
   "id": "c31bd39d",
   "metadata": {},
   "outputs": [
    {
     "name": "stdout",
     "output_type": "stream",
     "text": [
      "3\n",
      "6\n",
      "9\n",
      "12\n",
      "15\n",
      "18\n",
      "21\n",
      "24\n",
      "27\n",
      "30\n"
     ]
    }
   ],
   "source": [
    "for i in range(1,11):\n",
    "    print(3*i)\n"
   ]
  },
  {
   "cell_type": "markdown",
   "id": "1fad462f",
   "metadata": {},
   "source": [
    "- Define a function x and let the function return the x parameter + 5."
   ]
  },
  {
   "cell_type": "code",
   "execution_count": 36,
   "id": "7fe1bf1f",
   "metadata": {},
   "outputs": [
    {
     "name": "stdout",
     "output_type": "stream",
     "text": [
      "10\n"
     ]
    }
   ],
   "source": [
    "def func(x):\n",
    "    return x+5\n",
    "x = func(5)\n",
    "print(x)"
   ]
  },
  {
   "cell_type": "markdown",
   "id": "07292309",
   "metadata": {},
   "source": [
    "Yess!! You completed your first step towards mastering python basics. Keep Going."
   ]
  }
 ],
 "metadata": {
  "interpreter": {
   "hash": "71d4b9bdc2501f0b41a12ba0bee42e4288883e13cb7851aa14b03334e18332c6"
  },
  "kernelspec": {
   "display_name": "Python 3.10.4 64-bit",
   "language": "python",
   "name": "python3"
  },
  "language_info": {
   "codemirror_mode": {
    "name": "ipython",
    "version": 3
   },
   "file_extension": ".py",
   "mimetype": "text/x-python",
   "name": "python",
   "nbconvert_exporter": "python",
   "pygments_lexer": "ipython3",
   "version": "3.10.4"
  }
 },
 "nbformat": 4,
 "nbformat_minor": 5
}
