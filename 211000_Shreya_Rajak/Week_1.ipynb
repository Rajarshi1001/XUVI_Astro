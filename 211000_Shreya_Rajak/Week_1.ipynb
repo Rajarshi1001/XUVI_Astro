{
 "cells": [
  {
   "cell_type": "markdown",
   "id": "4fdb3be9",
   "metadata": {},
   "source": [
    "## Assignment- Python basics"
   ]
  },
  {
   "cell_type": "markdown",
   "id": "8078b43d",
   "metadata": {},
   "source": [
    "Time for you to test your knowledge. Take a sigh of relief! These assignemnts won't be like that of your mookIT courses and would be more of fun :)"
   ]
  },
  {
   "cell_type": "markdown",
   "id": "2b6a8692",
   "metadata": {},
   "source": [
    "- Create a variable called z, express it as a sum of two different variables, say x and y, and display the result."
   ]
  },
  {
   "cell_type": "code",
   "execution_count": 2,
   "id": "64b54b22",
   "metadata": {},
   "outputs": [
    {
     "name": "stdout",
     "output_type": "stream",
     "text": [
      "enter a no.2\n",
      "enter a no.3\n",
      "5\n"
     ]
    }
   ],
   "source": [
    "x=int(input(\"enter a no.\"))\n",
    "y=int(input(\"enter a no.\"))\n",
    "z=x+y\n",
    "print(z)"
   ]
  },
  {
   "cell_type": "markdown",
   "id": "e7e042e1",
   "metadata": {},
   "source": [
    "- Remove the illegal characters in the variable name:<br />\n",
    "`2my@-first_name = \"XYZ\"`"
   ]
  },
  {
   "cell_type": "code",
   "execution_count": 3,
   "id": "0d7d517d",
   "metadata": {},
   "outputs": [],
   "source": [
    "myfirst_name='XYZ'"
   ]
  },
  {
   "cell_type": "markdown",
   "id": "ffffd916",
   "metadata": {},
   "source": [
    "- Write the correct code for converting any float number, take 6.5 as an example, to an integer."
   ]
  },
  {
   "cell_type": "code",
   "execution_count": 5,
   "id": "1675ed40",
   "metadata": {},
   "outputs": [
    {
     "data": {
      "text/plain": [
       "6"
      ]
     },
     "execution_count": 5,
     "metadata": {},
     "output_type": "execute_result"
    }
   ],
   "source": [
    "x=int(input(\"enter a number\"))\n",
    "x"
   ]
  },
  {
   "cell_type": "markdown",
   "id": "7fb66d61",
   "metadata": {},
   "source": [
    "- `Text= \"Albert Einstein\".`<br />\n",
    "Get the characters from index 2 to index 5."
   ]
  },
  {
   "cell_type": "code",
   "execution_count": 7,
   "id": "fe7eb881",
   "metadata": {},
   "outputs": [
    {
     "data": {
      "text/plain": [
       "'bert'"
      ]
     },
     "execution_count": 7,
     "metadata": {},
     "output_type": "execute_result"
    }
   ],
   "source": [
    "Text = \"Albert Einstein\"\n",
    "Text[2:6]"
   ]
  },
  {
   "cell_type": "markdown",
   "id": "c0aad707",
   "metadata": {},
   "source": [
    "- Change the value from `\"apple\"` to `\"kiwi\"`, in the fruits list.<br />\n",
    "`fruits=[\"apple\",\"mango\",\"kiwi\",\"banana\"]`"
   ]
  },
  {
   "cell_type": "code",
   "execution_count": 8,
   "id": "a92d28bd",
   "metadata": {},
   "outputs": [
    {
     "data": {
      "text/plain": [
       "['kiwi', 'mango', 'kiwi', 'banana']"
      ]
     },
     "execution_count": 8,
     "metadata": {},
     "output_type": "execute_result"
    }
   ],
   "source": [
    "fruits=[\"apple\",\"mango\",\"kiwi\",\"banana\"]\n",
    "fruits[0]=\"kiwi\"\n",
    "fruits"
   ]
  },
  {
   "cell_type": "markdown",
   "id": "de1c39b0",
   "metadata": {},
   "source": [
    "- Use negative indexing to print the last item in the list.\n",
    "`fruits = [\"apple\", \"banana\", \"cherry\"]`"
   ]
  },
  {
   "cell_type": "code",
   "execution_count": 9,
   "id": "18d9b430",
   "metadata": {},
   "outputs": [
    {
     "data": {
      "text/plain": [
       "'banana'"
      ]
     },
     "execution_count": 9,
     "metadata": {},
     "output_type": "execute_result"
    }
   ],
   "source": [
    "fruits[-1]"
   ]
  },
  {
   "cell_type": "markdown",
   "id": "5ad0a6f4",
   "metadata": {},
   "source": [
    "- Remove any one of elements from given set.<br />\n",
    "`fruits = {\"apple\", \"banana\", \"cherry\"}`"
   ]
  },
  {
   "cell_type": "code",
   "execution_count": 11,
   "id": "99df2db2",
   "metadata": {},
   "outputs": [
    {
     "data": {
      "text/plain": [
       "['kiwi', 'mango']"
      ]
     },
     "execution_count": 11,
     "metadata": {},
     "output_type": "execute_result"
    }
   ],
   "source": [
    "fruits.pop()\n",
    "fruits"
   ]
  },
  {
   "cell_type": "markdown",
   "id": "ba7b6d1c",
   "metadata": {},
   "source": [
    "- Change the mode from online to offline in dictionary given below."
   ]
  },
  {
   "cell_type": "code",
   "execution_count": 19,
   "id": "0082ec7d",
   "metadata": {},
   "outputs": [
    {
     "name": "stdout",
     "output_type": "stream",
     "text": [
      "{'name': 'XUVI', 'no. of mentors': 3, 'mode': 'offline'}\n"
     ]
    }
   ],
   "source": [
    "project ={\n",
    "  \"name\": \"XUVI\",\n",
    "  \"no. of mentors\": 3,\n",
    "  \"mode\": \"online\"\n",
    "}\n",
    "\n",
    "project[\"mode\"]=\"offline\"\n",
    "print(project)"
   ]
  },
  {
   "cell_type": "markdown",
   "id": "8198fdbb",
   "metadata": {},
   "source": [
    "- Print \"Equal\" if a variable `A`(assign any value) is equal to another variable `B`(assign any value), \"smaller\" if A<B, otherwise print \"None\"."
   ]
  },
  {
   "cell_type": "code",
   "execution_count": 13,
   "id": "e9e17f4c",
   "metadata": {},
   "outputs": [
    {
     "name": "stdout",
     "output_type": "stream",
     "text": [
      "6\n",
      "5\n",
      "None\n"
     ]
    }
   ],
   "source": [
    "a=input()\n",
    "b=input()\n",
    "if a==b:\n",
    "    print(\"Equal\")\n",
    "elif a<b:\n",
    "    print(\"smaller\")\n",
    "else:\n",
    "    print(\"None\")"
   ]
  },
  {
   "cell_type": "markdown",
   "id": "59ea0e14",
   "metadata": {},
   "source": [
    "- Print all positive integers less than 7 except 3.(using loop method)"
   ]
  },
  {
   "cell_type": "code",
   "execution_count": 15,
   "id": "c13d412c",
   "metadata": {},
   "outputs": [
    {
     "name": "stdout",
     "output_type": "stream",
     "text": [
      "1\n",
      "2\n",
      "4\n",
      "5\n",
      "6\n"
     ]
    }
   ],
   "source": [
    "for i in range(1,7,1):\n",
    "    if i==3:\n",
    "        continue;\n",
    "    else:\n",
    "        print(i)"
   ]
  },
  {
   "cell_type": "markdown",
   "id": "0ad1638f",
   "metadata": {},
   "source": [
    "- Calculate sum and average of n natural numbers using for loop."
   ]
  },
  {
   "cell_type": "code",
   "execution_count": 16,
   "id": "4303884c",
   "metadata": {},
   "outputs": [
    {
     "name": "stdout",
     "output_type": "stream",
     "text": [
      "enter the last number3\n",
      "sum 6 average 2.0\n"
     ]
    }
   ],
   "source": [
    "n=int(input(\"enter the last number\"))\n",
    "sum=0\n",
    "for i in range(1,n+1,1):\n",
    "    sum=sum+i\n",
    "average=sum/n\n",
    "print(\"sum\",sum,\"average\",average)"
   ]
  },
  {
   "cell_type": "markdown",
   "id": "5aac8445",
   "metadata": {},
   "source": [
    "- Write a python code to print multiplication table of 3. (using for loop)"
   ]
  },
  {
   "cell_type": "code",
   "execution_count": 17,
   "id": "c31bd39d",
   "metadata": {},
   "outputs": [
    {
     "name": "stdout",
     "output_type": "stream",
     "text": [
      "3\n",
      "6\n",
      "9\n",
      "12\n",
      "15\n",
      "18\n",
      "21\n",
      "24\n",
      "27\n",
      "30\n"
     ]
    }
   ],
   "source": [
    "for i in range(1,11,1):\n",
    "    x=3*i\n",
    "    print(x)"
   ]
  },
  {
   "cell_type": "markdown",
   "id": "1fad462f",
   "metadata": {},
   "source": [
    "- Define a function x and let the function return the x parameter + 5."
   ]
  },
  {
   "cell_type": "code",
   "execution_count": 18,
   "id": "7fe1bf1f",
   "metadata": {},
   "outputs": [
    {
     "name": "stdout",
     "output_type": "stream",
     "text": [
      "enter a number5\n",
      "10\n"
     ]
    }
   ],
   "source": [
    "def func(x):\n",
    "    return x+5\n",
    "p=int(input(\"enter a number\"))\n",
    "k=func(p)\n",
    "print(k)"
   ]
  },
  {
   "cell_type": "markdown",
   "id": "07292309",
   "metadata": {},
   "source": [
    "Yess!! You completed your first step towards mastering python basics. Keep Going."
   ]
  }
 ],
 "metadata": {
  "interpreter": {
   "hash": "0b238050c0fbec23e22d1482b8d0120dfc8b9361b5e44816b39e3a927c92602a"
  },
  "kernelspec": {
   "display_name": "Python 3 (ipykernel)",
   "language": "python",
   "name": "python3"
  },
  "language_info": {
   "codemirror_mode": {
    "name": "ipython",
    "version": 3
   },
   "file_extension": ".py",
   "mimetype": "text/x-python",
   "name": "python",
   "nbconvert_exporter": "python",
   "pygments_lexer": "ipython3",
   "version": "3.9.1"
  }
 },
 "nbformat": 4,
 "nbformat_minor": 5
}
