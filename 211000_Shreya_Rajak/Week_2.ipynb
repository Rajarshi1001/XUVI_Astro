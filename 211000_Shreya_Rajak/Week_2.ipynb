{
 "cells": [
  {
   "cell_type": "markdown",
   "metadata": {},
   "source": [
    "### Assignment 2 - Numpy and Pandas Basics\n",
    "\n",
    "As you have already gone through the first assignment which was based on **Python** basics, you should have realised that these assignments are a lot easier than your normal **Mookit** assignments. Take your time and write down your solutions to each of the questions mentioned below. 😃"
   ]
  },
  {
   "cell_type": "code",
   "execution_count": 2,
   "metadata": {},
   "outputs": [],
   "source": [
    "## importing the Necessary libraries\n",
    "import numpy as np\n",
    "import pandas as pd"
   ]
  },
  {
   "cell_type": "markdown",
   "metadata": {},
   "source": [
    "- Firstly, create a numpy array consisting of all 1's having a size of 7:8"
   ]
  },
  {
   "cell_type": "code",
   "execution_count": 5,
   "metadata": {},
   "outputs": [
    {
     "data": {
      "text/plain": [
       "array([[1., 1., 1., 1., 1., 1., 1., 1.],\n",
       "       [1., 1., 1., 1., 1., 1., 1., 1.],\n",
       "       [1., 1., 1., 1., 1., 1., 1., 1.],\n",
       "       [1., 1., 1., 1., 1., 1., 1., 1.],\n",
       "       [1., 1., 1., 1., 1., 1., 1., 1.],\n",
       "       [1., 1., 1., 1., 1., 1., 1., 1.],\n",
       "       [1., 1., 1., 1., 1., 1., 1., 1.]])"
      ]
     },
     "execution_count": 5,
     "metadata": {},
     "output_type": "execute_result"
    }
   ],
   "source": [
    "a = np.ones(56).reshape(7,8)\n",
    "a"
   ]
  },
  {
   "cell_type": "markdown",
   "metadata": {},
   "source": [
    "- Create a random numpy array consisting of 10 elements ranging from 1 to 100."
   ]
  },
  {
   "cell_type": "code",
   "execution_count": 8,
   "metadata": {},
   "outputs": [
    {
     "name": "stderr",
     "output_type": "stream",
     "text": [
      "/tmp/ipykernel_9864/2710995154.py:1: DeprecationWarning: This function is deprecated. Please call randint(1, 101 + 1) instead\n",
      "  d1 = np.random.random_integers(1, 100+1, 10)\n"
     ]
    },
    {
     "data": {
      "text/plain": [
       "array([19, 50, 66, 81, 17, 48, 49, 15, 73, 14])"
      ]
     },
     "execution_count": 8,
     "metadata": {},
     "output_type": "execute_result"
    }
   ],
   "source": [
    "d1 = np.random.random_integers(1, 100+1, 10)\n",
    "d1\n"
   ]
  },
  {
   "cell_type": "markdown",
   "metadata": {},
   "source": [
    "- This was quite easy right :p, now you are given with two numpy arrays, namely [1,2] and [3,4], write the code to create all possible combinations of these two numpy arrays."
   ]
  },
  {
   "cell_type": "code",
   "execution_count": 9,
   "metadata": {},
   "outputs": [
    {
     "name": "stdout",
     "output_type": "stream",
     "text": [
      "[[1 3]\n",
      " [1 4]\n",
      " [2 3]\n",
      " [2 4]]\n"
     ]
    }
   ],
   "source": [
    "a=np.array([1,2])\n",
    "b=np.array([3,4])\n",
    "print(np.array(np.meshgrid(a,b)).T.reshape(-1,2))"
   ]
  },
  {
   "cell_type": "markdown",
   "metadata": {},
   "source": [
    "- Create a square matrix of your choice and calculate the maximum, minimum element and their corresponding indexes using numpy."
   ]
  },
  {
   "cell_type": "code",
   "execution_count": 10,
   "metadata": {},
   "outputs": [
    {
     "name": "stdout",
     "output_type": "stream",
     "text": [
      "1 (array([1]), array([0])) 5 (array([0]), array([1]))\n"
     ]
    }
   ],
   "source": [
    "x=np.array([[3,5],[1,2]])\n",
    "mi=x.min()\n",
    "ma=x.max()\n",
    "a=np.nonzero(x==mi)\n",
    "b=np.nonzero(x==ma)\n",
    "print(mi,a,ma,b)"
   ]
  },
  {
   "cell_type": "markdown",
   "metadata": {},
   "source": [
    "- from the above matrix that you have created, calculate the determinant and the eigenvalues using numpy."
   ]
  },
  {
   "cell_type": "code",
   "execution_count": 12,
   "metadata": {},
   "outputs": [
    {
     "name": "stdout",
     "output_type": "stream",
     "text": [
      "1\n",
      "(array([4.79128785, 0.20871215]), array([[ 0.94140906, -0.87315384],\n",
      "       [ 0.33726692,  0.48744474]]))\n"
     ]
    }
   ],
   "source": [
    "d=np.linalg.det(x)\n",
    "print((round(d)))\n",
    "e=np.linalg.eig(x)\n",
    "print(e)"
   ]
  },
  {
   "cell_type": "markdown",
   "metadata": {},
   "source": [
    "- Given a polynomial $x^{3} + 4x^{2} + 5x + 6 = 0$, calculate the roots of the equation using numpy."
   ]
  },
  {
   "cell_type": "code",
   "execution_count": 13,
   "metadata": {},
   "outputs": [
    {
     "name": "stdout",
     "output_type": "stream",
     "text": [
      "[-3. +0.j         -0.5+1.32287566j -0.5-1.32287566j]\n"
     ]
    }
   ],
   "source": [
    "co=np.array([1,4,5,6])\n",
    "print(np.roots(co))"
   ]
  },
  {
   "cell_type": "markdown",
   "metadata": {},
   "source": [
    "- Create two 2-D numpy arrays, the first array should contain all the elements ranging from 0 to 10, having 2 rows and the second 2-D arrays should containing 10 numbers between 1 and 20, having a size of 2x5. \n",
    "- After creating the two 2-D numpy arrays, stack them vertically to create a 4x5 matrix.\n",
    "- Convert the 4x5 matrix to a 1x1 numpy array\n",
    "- Finally count the frequency of each of the elements occuring in the array."
   ]
  },
  {
   "cell_type": "code",
   "execution_count": 16,
   "metadata": {},
   "outputs": [
    {
     "name": "stdout",
     "output_type": "stream",
     "text": [
      "arr2= [[ 5 18 11 18  5]\n",
      " [12 19 18  1 14]]\n",
      "stacked array= [[ 0  1  2  3  4]\n",
      " [ 5  6  7  8  9]\n",
      " [ 5 18 11 18  5]\n",
      " [12 19 18  1 14]]\n",
      "[ 0  1  2  3  4  5  6  7  8  9  5 18 11 18  5 12 19 18  1 14]\n",
      "(array([ 0,  1,  2,  3,  4,  5,  6,  7,  8,  9, 11, 12, 14, 18, 19]), array([1, 2, 1, 1, 1, 3, 1, 1, 1, 1, 1, 1, 1, 3, 1]))\n"
     ]
    }
   ],
   "source": [
    "arr1=np.arange(10).reshape(2,5)\n",
    "arr2=np.random.randint(1,20,10).reshape(2,5)\n",
    "print(\"arr2=\",arr2)\n",
    "arr3=np.vstack((arr1,arr2))\n",
    "print(\"stacked array=\",arr3)\n",
    "arr4=arr3.ravel()\n",
    "print(arr4)\n",
    "c=np.unique(arr4,return_counts=\"True\")\n",
    "print(c)"
   ]
  },
  {
   "cell_type": "markdown",
   "metadata": {},
   "source": [
    "- Convert the following dictionary to a Pandas Dataframe"
   ]
  },
  {
   "cell_type": "code",
   "execution_count": 18,
   "metadata": {},
   "outputs": [
    {
     "name": "stdout",
     "output_type": "stream",
     "text": [
      "        area  rainfall  temperature\n",
      "0  new-hills       100           20\n",
      "1  cape-town        70           25\n",
      "2     mumbai       200           39\n",
      "3  new Delhi        30           45\n",
      "4     Kanpur        25           47\n"
     ]
    }
   ],
   "source": [
    "data ={'area': ['new-hills', 'cape-town', 'mumbai','new Delhi', 'Kanpur'],\n",
    "       'rainfall':[100, 70, 200, 30, 25],\n",
    "       'temperature':[20, 25, 39, 45, 47]}\n",
    "a=pd.DataFrame(data)\n",
    "print(a)"
   ]
  },
  {
   "cell_type": "markdown",
   "metadata": {},
   "source": [
    "- Using the dataframe created above:\n",
    "   - Display all the info related to the dataframe.\n",
    "   - replace the entry **\"new-hills\"** with **\"old-hills\"** and replace the raingfall amount **100** with **99**.\n",
    "   - sort the entries, rainfall amount should be **ascending order** and the temperature should be **descending order**."
   ]
  },
  {
   "cell_type": "code",
   "execution_count": 69,
   "metadata": {},
   "outputs": [],
   "source": []
  },
  {
   "cell_type": "markdown",
   "metadata": {},
   "source": [
    "- Using the **csv file** present, use pandas to read the **csv** file in a dataframe.\n",
    "- Firstly, use **pandas info()** method to display the datatypes of the entries present in each column in the dataframe.\n",
    "- Find the number of **null entries (NaN)** values in each column and show it as an output.\n",
    "- Replace the `~1000` in the **Depth (in meters)** and `~3300` in **Depth (in feet)** columns with `1000` and `3300` and display the modified dataframe.\n",
    "- Also calculate the rows corresponding to the maximum values"
   ]
  },
  {
   "cell_type": "code",
   "execution_count": 70,
   "metadata": {},
   "outputs": [],
   "source": [
    "# Write your code here"
   ]
  }
 ],
 "metadata": {
  "interpreter": {
   "hash": "81794d4967e6c3204c66dcd87b604927b115b27c00565d3d43f05ba2f3a2cb0d"
  },
  "kernelspec": {
   "display_name": "Python 3 (ipykernel)",
   "language": "python",
   "name": "python3"
  },
  "language_info": {
   "codemirror_mode": {
    "name": "ipython",
    "version": 3
   },
   "file_extension": ".py",
   "mimetype": "text/x-python",
   "name": "python",
   "nbconvert_exporter": "python",
   "pygments_lexer": "ipython3",
   "version": "3.9.12"
  }
 },
 "nbformat": 4,
 "nbformat_minor": 2
}
